{
 "cells": [
  {
   "cell_type": "code",
   "execution_count": 6,
   "id": "fc2e0799",
   "metadata": {},
   "outputs": [],
   "source": [
    "relacao_grupos = {\n",
    "    'Avestruz': 1,\n",
    "    'Águia': 2,\n",
    "    'Burro': 3,\n",
    "    'Borboleta': 4,\n",
    "    'Cachorro': 5,\n",
    "    'Cabra': 6,\n",
    "    'Carneiro': 7,\n",
    "    'Camelo': 8,\n",
    "    'Cobra': 9,\n",
    "    'Coelho': 10,\n",
    "    'Cavalo': 11,\n",
    "    'Elefante': 12,\n",
    "    'Galo': 13,\n",
    "    'Gato': 14,\n",
    "    'Jacaré': 15,\n",
    "    'Leão': 16,\n",
    "    'Macaco': 17,\n",
    "    'Porco': 18,\n",
    "    'Pavão': 19,\n",
    "    'Peru': 20,\n",
    "    'Touro': 21,\n",
    "    'Tigre': 22,\n",
    "    'Urso': 23,\n",
    "    'Veado': 24,\n",
    "    'Vaca': 25,\n",
    "}"
   ]
  },
  {
   "cell_type": "code",
   "execution_count": 7,
   "id": "e9367601",
   "metadata": {},
   "outputs": [],
   "source": [
    "relacao_n = {\n",
    "    1: 'Avestruz',\n",
    "    2: 'Avestruz',\n",
    "    3: 'Avestruz',\n",
    "    4: 'Avestruz',\n",
    "    5: 'Águia',\n",
    "    6: 'Águia',\n",
    "    7: 'Águia',\n",
    "    8: 'Águia',\n",
    "    9: 'Burro',\n",
    "    10: 'Burro',\n",
    "    11: 'Burro',\n",
    "    12: 'Burro',\n",
    "    13: 'Borboleta',\n",
    "    14: 'Borboleta',\n",
    "    15: 'Borboleta',\n",
    "    16: 'Borboleta',\n",
    "    17: 'Cachorro',\n",
    "    18: 'Cachorro',\n",
    "    19: 'Cachorro',\n",
    "    20: 'Cachorro',\n",
    "    21: 'Cabra',\n",
    "    22: 'Cabra',\n",
    "    23: 'Cabra',\n",
    "    24: 'Cabra',\n",
    "    25: 'Carneiro',\n",
    "    26: 'Carneiro',\n",
    "    27: 'Carneiro',\n",
    "    28: 'Carneiro',\n",
    "    29: 'Camelo',\n",
    "    30: 'Camelo',\n",
    "    31: 'Camelo',\n",
    "    32: 'Camelo',\n",
    "    33: 'Cobra',\n",
    "    34: 'Cobra',\n",
    "    35: 'Cobra',\n",
    "    36: 'Cobra',\n",
    "    37: 'Coelho',\n",
    "    38: 'Coelho',\n",
    "    39: 'Coelho',\n",
    "    40: 'Coelho',\n",
    "    41: 'Cavalo',\n",
    "    42: 'Cavalo',\n",
    "    43: 'Cavalo',\n",
    "    44: 'Cavalo',\n",
    "    44: 'Cavalo',  \n",
    "    45: 'Elefante',\n",
    "    46: 'Elefante',\n",
    "    47: 'Elefante',\n",
    "    48: 'Elefante',\n",
    "    49: 'Galo',\n",
    "    50: 'Galo',\n",
    "    51: 'Galo',\n",
    "    52: 'Galo',\n",
    "    53: 'Gato',\n",
    "    54: 'Gato',\n",
    "    55: 'Gato',\n",
    "    56: 'Gato',\n",
    "    57: 'Jacaré',\n",
    "    58: 'Jacaré',\n",
    "    59: 'Jacaré',\n",
    "    60: 'Jacaré',\n",
    "    61: 'Leão',\n",
    "    62: 'Leão',\n",
    "    63: 'Leão',\n",
    "    64: 'Leão',\n",
    "    65: 'Macaco',\n",
    "    66: 'Macaco',\n",
    "    67: 'Macaco',\n",
    "    68: 'Macaco',\n",
    "    69: 'Porco',\n",
    "    70: 'Porco',\n",
    "    71: 'Porco',\n",
    "    72: 'Porco',\n",
    "    73: 'Pavão',\n",
    "    74: 'Pavão',\n",
    "    75: 'Pavão',\n",
    "    76: 'Pavão',\n",
    "    77: 'Peru',\n",
    "    78: 'Peru',\n",
    "    79: 'Peru',\n",
    "    80: 'Peru',\n",
    "    81: 'Touro',\n",
    "    82: 'Touro',\n",
    "    83: 'Touro',\n",
    "    84: 'Touro',\n",
    "    85: 'Tigre',\n",
    "    86: 'Tigre',\n",
    "    87: 'Tigre',\n",
    "    88: 'Tigre',\n",
    "    89: 'Urso',\n",
    "    90: 'Urso',\n",
    "    91: 'Urso',\n",
    "    92: 'Urso',\n",
    "    93: 'Veado',\n",
    "    94: 'Veado',\n",
    "    95: 'Veado',\n",
    "    96: 'Veado',\n",
    "    97: 'Vaca',\n",
    "    98: 'Vaca',\n",
    "    99: 'Vaca',\n",
    "    0: 'Vaca',\n",
    "}"
   ]
  },
  {
   "cell_type": "code",
   "execution_count": 8,
   "id": "48431976",
   "metadata": {
    "collapsed": true
   },
   "outputs": [
    {
     "name": "stdout",
     "output_type": "stream",
     "text": [
      "Defaulting to user installation because normal site-packages is not writeable\n",
      "Requirement already satisfied: pandas in /home/caslu/.local/lib/python3.10/site-packages (2.0.0)\n",
      "Requirement already satisfied: python-dateutil>=2.8.2 in /home/caslu/.local/lib/python3.10/site-packages (from pandas) (2.8.2)\n",
      "Requirement already satisfied: tzdata>=2022.1 in /home/caslu/.local/lib/python3.10/site-packages (from pandas) (2023.3)\n",
      "Requirement already satisfied: pytz>=2020.1 in /usr/lib/python3/dist-packages (from pandas) (2022.1)\n",
      "Requirement already satisfied: numpy>=1.21.0 in /usr/lib/python3/dist-packages (from pandas) (1.21.5)\n",
      "Requirement already satisfied: six>=1.5 in /usr/lib/python3/dist-packages (from python-dateutil>=2.8.2->pandas) (1.16.0)\n"
     ]
    }
   ],
   "source": [
    "!pip3 install pandas\n",
    "\n",
    "from pandas import read_csv\n",
    "\n",
    "df = read_csv('./result_.csv')"
   ]
  },
  {
   "cell_type": "code",
   "execution_count": 9,
   "id": "658fb507",
   "metadata": {
    "scrolled": false
   },
   "outputs": [
    {
     "data": {
      "text/html": [
       "<div>\n",
       "<style scoped>\n",
       "    .dataframe tbody tr th:only-of-type {\n",
       "        vertical-align: middle;\n",
       "    }\n",
       "\n",
       "    .dataframe tbody tr th {\n",
       "        vertical-align: top;\n",
       "    }\n",
       "\n",
       "    .dataframe thead th {\n",
       "        text-align: right;\n",
       "    }\n",
       "</style>\n",
       "<table border=\"1\" class=\"dataframe\">\n",
       "  <thead>\n",
       "    <tr style=\"text-align: right;\">\n",
       "      <th></th>\n",
       "      <th>data</th>\n",
       "      <th>milhar</th>\n",
       "    </tr>\n",
       "  </thead>\n",
       "  <tbody>\n",
       "    <tr>\n",
       "      <th>0</th>\n",
       "      <td>2022-09-24</td>\n",
       "      <td>8982</td>\n",
       "    </tr>\n",
       "    <tr>\n",
       "      <th>1</th>\n",
       "      <td>2022-09-23</td>\n",
       "      <td>6690</td>\n",
       "    </tr>\n",
       "    <tr>\n",
       "      <th>2</th>\n",
       "      <td>2022-09-22</td>\n",
       "      <td>8679</td>\n",
       "    </tr>\n",
       "    <tr>\n",
       "      <th>3</th>\n",
       "      <td>2022-09-21</td>\n",
       "      <td>5613</td>\n",
       "    </tr>\n",
       "    <tr>\n",
       "      <th>4</th>\n",
       "      <td>2022-09-20</td>\n",
       "      <td>6680</td>\n",
       "    </tr>\n",
       "    <tr>\n",
       "      <th>...</th>\n",
       "      <td>...</td>\n",
       "      <td>...</td>\n",
       "    </tr>\n",
       "    <tr>\n",
       "      <th>242</th>\n",
       "      <td>2021-08-12</td>\n",
       "      <td>5452</td>\n",
       "    </tr>\n",
       "    <tr>\n",
       "      <th>243</th>\n",
       "      <td>2021-07-12</td>\n",
       "      <td>290</td>\n",
       "    </tr>\n",
       "    <tr>\n",
       "      <th>244</th>\n",
       "      <td>2021-06-12</td>\n",
       "      <td>1121</td>\n",
       "    </tr>\n",
       "    <tr>\n",
       "      <th>245</th>\n",
       "      <td>2021-04-12</td>\n",
       "      <td>1929</td>\n",
       "    </tr>\n",
       "    <tr>\n",
       "      <th>246</th>\n",
       "      <td>2021-03-12</td>\n",
       "      <td>3945</td>\n",
       "    </tr>\n",
       "  </tbody>\n",
       "</table>\n",
       "<p>247 rows × 2 columns</p>\n",
       "</div>"
      ],
      "text/plain": [
       "           data  milhar\n",
       "0    2022-09-24    8982\n",
       "1    2022-09-23    6690\n",
       "2    2022-09-22    8679\n",
       "3    2022-09-21    5613\n",
       "4    2022-09-20    6680\n",
       "..          ...     ...\n",
       "242  2021-08-12    5452\n",
       "243  2021-07-12     290\n",
       "244  2021-06-12    1121\n",
       "245  2021-04-12    1929\n",
       "246  2021-03-12    3945\n",
       "\n",
       "[247 rows x 2 columns]"
      ]
     },
     "execution_count": 9,
     "metadata": {},
     "output_type": "execute_result"
    }
   ],
   "source": [
    "df"
   ]
  },
  {
   "cell_type": "code",
   "execution_count": 12,
   "id": "05235cb6",
   "metadata": {},
   "outputs": [],
   "source": [
    "from pandas import Series\n",
    "\n",
    "grupos = Series(relacao_grupos)\n",
    "\n",
    "numeros = Series(relacao_n)"
   ]
  },
  {
   "cell_type": "code",
   "execution_count": 11,
   "id": "ce16bd2d",
   "metadata": {
    "collapsed": true
   },
   "outputs": [
    {
     "data": {
      "text/plain": [
       "Avestruz      1\n",
       "Águia         2\n",
       "Burro         3\n",
       "Borboleta     4\n",
       "Cachorro      5\n",
       "Cabra         6\n",
       "Carneiro      7\n",
       "Camelo        8\n",
       "Cobra         9\n",
       "Coelho       10\n",
       "Cavalo       11\n",
       "Elefante     12\n",
       "Galo         13\n",
       "Gato         14\n",
       "Jacaré       15\n",
       "Leão         16\n",
       "Macaco       17\n",
       "Porco        18\n",
       "Pavão        19\n",
       "Peru         20\n",
       "Touro        21\n",
       "Tigre        22\n",
       "Urso         23\n",
       "Veado        24\n",
       "Vaca         25\n",
       "dtype: int64"
      ]
     },
     "execution_count": 11,
     "metadata": {},
     "output_type": "execute_result"
    }
   ],
   "source": [
    "grupos"
   ]
  },
  {
   "cell_type": "code",
   "execution_count": 13,
   "id": "75fcfaaf",
   "metadata": {},
   "outputs": [
    {
     "data": {
      "text/plain": [
       "1     Avestruz\n",
       "2     Avestruz\n",
       "3     Avestruz\n",
       "4     Avestruz\n",
       "5        Águia\n",
       "        ...   \n",
       "96       Veado\n",
       "97        Vaca\n",
       "98        Vaca\n",
       "99        Vaca\n",
       "0         Vaca\n",
       "Length: 100, dtype: object"
      ]
     },
     "execution_count": 13,
     "metadata": {},
     "output_type": "execute_result"
    }
   ],
   "source": [
    "numeros"
   ]
  },
  {
   "cell_type": "code",
   "execution_count": 21,
   "id": "9a9896d2",
   "metadata": {},
   "outputs": [],
   "source": [
    "def numero_animal(n, numeros=numeros):\n",
    "    return numeros.loc[n]\n",
    "\n",
    "def grupo_animal(animal, grupos=grupos):\n",
    "    return grupos[animal]"
   ]
  },
  {
   "cell_type": "code",
   "execution_count": 20,
   "id": "fa513db8",
   "metadata": {},
   "outputs": [
    {
     "name": "stdout",
     "output_type": "stream",
     "text": [
      "Pavão\n"
     ]
    }
   ],
   "source": [
    "print(numero_animal(74))"
   ]
  },
  {
   "cell_type": "code",
   "execution_count": 44,
   "id": "a599a784",
   "metadata": {},
   "outputs": [
    {
     "data": {
      "text/plain": [
       "14"
      ]
     },
     "execution_count": 44,
     "metadata": {},
     "output_type": "execute_result"
    }
   ],
   "source": [
    "grupo_animal(numero_animal(56))"
   ]
  },
  {
   "cell_type": "code",
   "execution_count": 26,
   "id": "4b7ad149",
   "metadata": {},
   "outputs": [],
   "source": [
    "df.index = df.data\n",
    "del df['data']"
   ]
  },
  {
   "cell_type": "code",
   "execution_count": 36,
   "id": "d948ff0a",
   "metadata": {},
   "outputs": [],
   "source": [
    "df['resultado_01'] = df.milhar.apply(\n",
    "    lambda x: int(str(x).zfill(4)[2:])\n",
    ")\n",
    "\n",
    "df['resultado_02'] = df.milhar.apply(\n",
    "    lambda x: int(str(x).zfill(4)[:2])\n",
    ")"
   ]
  },
  {
   "cell_type": "code",
   "execution_count": null,
   "id": "7b7d7994",
   "metadata": {},
   "outputs": [],
   "source": []
  },
  {
   "cell_type": "code",
   "execution_count": 38,
   "id": "a2848754",
   "metadata": {},
   "outputs": [],
   "source": [
    "df['bicho_01'] = df.resultado_01.apply(numero_animal)\n",
    "df['bicho_02'] = df.resultado_02.apply(numero_animal)"
   ]
  },
  {
   "cell_type": "code",
   "execution_count": 40,
   "id": "28114386",
   "metadata": {},
   "outputs": [],
   "source": [
    "df['grupo_01'] = df.bicho_01.apply(grupo_animal)\n",
    "df['grupo_02'] = df.bicho_02.apply(grupo_animal)"
   ]
  },
  {
   "cell_type": "code",
   "execution_count": 46,
   "id": "94dd7ff3",
   "metadata": {},
   "outputs": [
    {
     "data": {
      "text/html": [
       "<div>\n",
       "<style scoped>\n",
       "    .dataframe tbody tr th:only-of-type {\n",
       "        vertical-align: middle;\n",
       "    }\n",
       "\n",
       "    .dataframe tbody tr th {\n",
       "        vertical-align: top;\n",
       "    }\n",
       "\n",
       "    .dataframe thead th {\n",
       "        text-align: right;\n",
       "    }\n",
       "</style>\n",
       "<table border=\"1\" class=\"dataframe\">\n",
       "  <thead>\n",
       "    <tr style=\"text-align: right;\">\n",
       "      <th></th>\n",
       "      <th>milhar</th>\n",
       "      <th>resultado_01</th>\n",
       "      <th>bicho_01</th>\n",
       "      <th>grupo_01</th>\n",
       "      <th>resultado_02</th>\n",
       "      <th>bicho_02</th>\n",
       "      <th>grupo_02</th>\n",
       "    </tr>\n",
       "    <tr>\n",
       "      <th>data</th>\n",
       "      <th></th>\n",
       "      <th></th>\n",
       "      <th></th>\n",
       "      <th></th>\n",
       "      <th></th>\n",
       "      <th></th>\n",
       "      <th></th>\n",
       "    </tr>\n",
       "  </thead>\n",
       "  <tbody>\n",
       "    <tr>\n",
       "      <th>2022-04-27</th>\n",
       "      <td>8381</td>\n",
       "      <td>81</td>\n",
       "      <td>Touro</td>\n",
       "      <td>21</td>\n",
       "      <td>83</td>\n",
       "      <td>Touro</td>\n",
       "      <td>21</td>\n",
       "    </tr>\n",
       "  </tbody>\n",
       "</table>\n",
       "</div>"
      ],
      "text/plain": [
       "            milhar  resultado_01 bicho_01  grupo_01  resultado_02 bicho_02   \n",
       "data                                                                         \n",
       "2022-04-27    8381            81    Touro        21            83    Touro  \\\n",
       "\n",
       "            grupo_02  \n",
       "data                  \n",
       "2022-04-27        21  "
      ]
     },
     "execution_count": 46,
     "metadata": {},
     "output_type": "execute_result"
    }
   ],
   "source": [
    "df.query(\"bicho_01 == 'Touro'\").query(\"bicho_02 == 'Touro'\")"
   ]
  },
  {
   "cell_type": "code",
   "execution_count": 47,
   "id": "25747d2d",
   "metadata": {},
   "outputs": [
    {
     "data": {
      "text/plain": [
       "<AxesSubplot:xlabel='bicho_01'>"
      ]
     },
     "execution_count": 47,
     "metadata": {},
     "output_type": "execute_result"
    },
    {
     "data": {
      "image/png": "[encoded data removed]",
      "text/plain": [
       "<Figure size 640x480 with 1 Axes>"
      ]
     },
     "metadata": {},
     "output_type": "display_data"
    }
   ],
   "source": [
    "(df\n",
    " .query('bicho_02 == \"Coelho\"')\n",
    " .bicho_01\n",
    " .groupby\n",
    " (df.bicho_01).count().plot(kind=\"bar\")\n",
    ")"
   ]
  }
 ],
 "metadata": {
  "kernelspec": {
   "display_name": "Python 3 (ipykernel)",
   "language": "python",
   "name": "python3"
  },
  "language_info": {
   "codemirror_mode": {
    "name": "ipython",
    "version": 3
   },
   "file_extension": ".py",
   "mimetype": "text/x-python",
   "name": "python",
   "nbconvert_exporter": "python",
   "pygments_lexer": "ipython3",
   "version": "3.10.6"
  }
 },
 "nbformat": 4,
 "nbformat_minor": 5
}
