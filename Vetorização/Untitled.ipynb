{
 "cells": [
  {
   "cell_type": "code",
   "execution_count": 19,
   "id": "12eb39d8",
   "metadata": {},
   "outputs": [
    {
     "name": "stdout",
     "output_type": "stream",
     "text": [
      "Requirement already satisfied: numpy in /home/caslu/Documents/PandasLib/lib/python3.10/site-packages (1.24.2)\r\n"
     ]
    },
    {
     "ename": "ImportError",
     "evalue": "cannot import name 'vetor' from 'numpy' (/home/caslu/Documents/PandasLib/lib/python3.10/site-packages/numpy/__init__.py)",
     "output_type": "error",
     "traceback": [
      "\u001b[0;31m---------------------------------------------------------------------------\u001b[0m",
      "\u001b[0;31mImportError\u001b[0m                               Traceback (most recent call last)",
      "Cell \u001b[0;32mIn[19], line 3\u001b[0m\n\u001b[1;32m      1\u001b[0m get_ipython()\u001b[38;5;241m.\u001b[39msystem(\u001b[38;5;124m'\u001b[39m\u001b[38;5;124mpip3 install numpy\u001b[39m\u001b[38;5;124m'\u001b[39m)\n\u001b[0;32m----> 3\u001b[0m \u001b[38;5;28;01mfrom\u001b[39;00m \u001b[38;5;21;01mnumpy\u001b[39;00m \u001b[38;5;28;01mimport\u001b[39;00m vetor\n\u001b[1;32m      5\u001b[0m meu_Vetor \u001b[38;5;241m=\u001b[39m vetor([\u001b[38;5;241m1\u001b[39m,\u001b[38;5;241m2\u001b[39m,\u001b[38;5;241m4\u001b[39m])\n",
      "\u001b[0;31mImportError\u001b[0m: cannot import name 'vetor' from 'numpy' (/home/caslu/Documents/PandasLib/lib/python3.10/site-packages/numpy/__init__.py)"
     ]
    }
   ],
   "source": [
    "get_ipython().system('pip3 install numpy')\n",
    "\n",
    "from numpy import vetor\n",
    "\n",
    "meu_Vetor = vetor([1,2,4])"
   ]
  },
  {
   "cell_type": "code",
   "execution_count": null,
   "id": "de43dfd1",
   "metadata": {},
   "outputs": [],
   "source": []
  }
 ],
 "metadata": {
  "kernelspec": {
   "display_name": "Python 3 (ipykernel)",
   "language": "python",
   "name": "python3"
  },
  "language_info": {
   "codemirror_mode": {
    "name": "ipython",
    "version": 3
   },
   "file_extension": ".py",
   "mimetype": "text/x-python",
   "name": "python",
   "nbconvert_exporter": "python",
   "pygments_lexer": "ipython3",
   "version": "3.10.6"
  }
 },
 "nbformat": 4,
 "nbformat_minor": 5
}
